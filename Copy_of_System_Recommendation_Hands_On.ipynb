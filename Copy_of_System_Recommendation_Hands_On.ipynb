{
  "metadata": {
    "kernelspec": {
      "language": "python",
      "display_name": "Python 3",
      "name": "python3"
    },
    "language_info": {
      "name": "python",
      "version": "3.7.12",
      "mimetype": "text/x-python",
      "codemirror_mode": {
        "name": "ipython",
        "version": 3
      },
      "pygments_lexer": "ipython3",
      "nbconvert_exporter": "python",
      "file_extension": ".py"
    },
    "kaggle": {
      "accelerator": "none",
      "dataSources": [
        {
          "sourceId": 4245706,
          "sourceType": "datasetVersion",
          "datasetId": 2502025
        }
      ],
      "dockerImageVersionId": 30260,
      "isInternetEnabled": true,
      "language": "python",
      "sourceType": "notebook",
      "isGpuEnabled": false
    },
    "colab": {
      "provenance": [],
      "include_colab_link": true
    }
  },
  "nbformat_minor": 0,
  "nbformat": 4,
  "cells": [
    {
      "cell_type": "markdown",
      "metadata": {
        "id": "view-in-github",
        "colab_type": "text"
      },
      "source": [
        "<a href=\"https://colab.research.google.com/github/amurtigro041/Machine-Learning-Specialization-Coursera/blob/main/Copy_of_System_Recommendation_Hands_On.ipynb\" target=\"_parent\"><img src=\"https://colab.research.google.com/assets/colab-badge.svg\" alt=\"Open In Colab\"/></a>"
      ]
    },
    {
      "cell_type": "code",
      "source": [
        "import numpy as np\n",
        "import pandas as pd\n",
        "import seaborn as sns\n",
        "import matplotlib.pyplot as plt\n",
        "%matplotlib inline\n",
        "\n",
        "import warnings\n",
        "warnings.filterwarnings(\"ignore\")"
      ],
      "metadata": {
        "execution": {
          "iopub.status.busy": "2024-03-18T06:33:01.5777Z",
          "iopub.execute_input": "2024-03-18T06:33:01.578213Z",
          "iopub.status.idle": "2024-03-18T06:33:01.589848Z",
          "shell.execute_reply.started": "2024-03-18T06:33:01.578176Z",
          "shell.execute_reply": "2024-03-18T06:33:01.587908Z"
        },
        "trusted": true,
        "id": "XICeWSBxUsSa"
      },
      "execution_count": null,
      "outputs": []
    },
    {
      "cell_type": "code",
      "source": [
        "movies = pd.read_csv('https://drive.google.com/uc?id=1xs4RldQMooikknISna4Hcp2uYzOvq1JX')\n",
        "movies.head()"
      ],
      "metadata": {
        "execution": {
          "iopub.status.busy": "2024-03-18T06:33:01.591795Z",
          "iopub.execute_input": "2024-03-18T06:33:01.592317Z",
          "iopub.status.idle": "2024-03-18T06:33:01.762009Z",
          "shell.execute_reply.started": "2024-03-18T06:33:01.592281Z",
          "shell.execute_reply": "2024-03-18T06:33:01.760345Z"
        },
        "trusted": true,
        "id": "gVJg_HmJUsSa"
      },
      "execution_count": null,
      "outputs": []
    },
    {
      "cell_type": "code",
      "source": [
        "movies.shape"
      ],
      "metadata": {
        "execution": {
          "iopub.status.busy": "2024-03-18T06:33:01.764101Z",
          "iopub.execute_input": "2024-03-18T06:33:01.765549Z",
          "iopub.status.idle": "2024-03-18T06:33:01.775165Z",
          "shell.execute_reply.started": "2024-03-18T06:33:01.765472Z",
          "shell.execute_reply": "2024-03-18T06:33:01.773547Z"
        },
        "trusted": true,
        "id": "3_DE9kUoUsSa"
      },
      "execution_count": null,
      "outputs": []
    },
    {
      "cell_type": "code",
      "source": [
        "credits = pd.read_csv('https://drive.google.com/uc?id=1d_j9Yo0ThmiPTAyqnc5q3Zd4CbC84Ahs')\n",
        "credits.head()"
      ],
      "metadata": {
        "execution": {
          "iopub.status.busy": "2024-03-18T06:33:01.779296Z",
          "iopub.execute_input": "2024-03-18T06:33:01.779774Z",
          "iopub.status.idle": "2024-03-18T06:33:02.457837Z",
          "shell.execute_reply.started": "2024-03-18T06:33:01.77971Z",
          "shell.execute_reply": "2024-03-18T06:33:02.456426Z"
        },
        "trusted": true,
        "id": "YIcja2aOUsSa"
      },
      "execution_count": null,
      "outputs": []
    },
    {
      "cell_type": "code",
      "source": [
        "credits.info()"
      ],
      "metadata": {
        "execution": {
          "iopub.status.busy": "2024-03-18T06:33:02.459601Z",
          "iopub.execute_input": "2024-03-18T06:33:02.460074Z",
          "iopub.status.idle": "2024-03-18T06:33:02.481461Z",
          "shell.execute_reply.started": "2024-03-18T06:33:02.460035Z",
          "shell.execute_reply": "2024-03-18T06:33:02.480271Z"
        },
        "trusted": true,
        "id": "i2H-lL3FUsSb"
      },
      "execution_count": null,
      "outputs": []
    },
    {
      "cell_type": "code",
      "source": [
        "movies.shape"
      ],
      "metadata": {
        "execution": {
          "iopub.status.busy": "2024-03-18T06:33:02.483745Z",
          "iopub.execute_input": "2024-03-18T06:33:02.484502Z",
          "iopub.status.idle": "2024-03-18T06:33:02.493046Z",
          "shell.execute_reply.started": "2024-03-18T06:33:02.484462Z",
          "shell.execute_reply": "2024-03-18T06:33:02.491215Z"
        },
        "trusted": true,
        "id": "SuSeZ6WNUsSb"
      },
      "execution_count": null,
      "outputs": []
    },
    {
      "cell_type": "code",
      "source": [
        "movies.info()"
      ],
      "metadata": {
        "execution": {
          "iopub.status.busy": "2024-03-18T06:33:02.495312Z",
          "iopub.execute_input": "2024-03-18T06:33:02.495749Z",
          "iopub.status.idle": "2024-03-18T06:33:02.524707Z",
          "shell.execute_reply.started": "2024-03-18T06:33:02.495716Z",
          "shell.execute_reply": "2024-03-18T06:33:02.523676Z"
        },
        "trusted": true,
        "id": "wUiRBkaSUsSb"
      },
      "execution_count": null,
      "outputs": []
    },
    {
      "cell_type": "code",
      "source": [
        "movies = movies.merge(credits,on='title')\n",
        "movies.head(1)"
      ],
      "metadata": {
        "execution": {
          "iopub.status.busy": "2024-03-18T06:33:04.985587Z",
          "iopub.execute_input": "2024-03-18T06:33:04.986212Z",
          "iopub.status.idle": "2024-03-18T06:33:05.042621Z",
          "shell.execute_reply.started": "2024-03-18T06:33:04.986171Z",
          "shell.execute_reply": "2024-03-18T06:33:05.04116Z"
        },
        "trusted": true,
        "id": "jtvRIGyuUsSc"
      },
      "execution_count": null,
      "outputs": []
    },
    {
      "cell_type": "code",
      "source": [
        "movies.shape"
      ],
      "metadata": {
        "execution": {
          "iopub.status.busy": "2024-03-18T06:33:05.046196Z",
          "iopub.execute_input": "2024-03-18T06:33:05.046697Z",
          "iopub.status.idle": "2024-03-18T06:33:05.055403Z",
          "shell.execute_reply.started": "2024-03-18T06:33:05.046658Z",
          "shell.execute_reply": "2024-03-18T06:33:05.054355Z"
        },
        "trusted": true,
        "id": "vI-etQAzUsSc"
      },
      "execution_count": null,
      "outputs": []
    },
    {
      "cell_type": "code",
      "source": [
        "movies = movies[['movie_id','title','overview','genres','keywords','cast','crew']]\n",
        "movies.head(2)"
      ],
      "metadata": {
        "execution": {
          "iopub.status.busy": "2024-03-18T06:33:05.061948Z",
          "iopub.execute_input": "2024-03-18T06:33:05.063607Z",
          "iopub.status.idle": "2024-03-18T06:33:05.091505Z",
          "shell.execute_reply.started": "2024-03-18T06:33:05.063556Z",
          "shell.execute_reply": "2024-03-18T06:33:05.089938Z"
        },
        "trusted": true,
        "id": "JjjxAd09UsSc"
      },
      "execution_count": null,
      "outputs": []
    },
    {
      "cell_type": "code",
      "source": [
        "movies.isnull().sum()"
      ],
      "metadata": {
        "execution": {
          "iopub.status.busy": "2024-03-18T06:33:05.093284Z",
          "iopub.execute_input": "2024-03-18T06:33:05.093765Z",
          "iopub.status.idle": "2024-03-18T06:33:05.11058Z",
          "shell.execute_reply.started": "2024-03-18T06:33:05.093725Z",
          "shell.execute_reply": "2024-03-18T06:33:05.109464Z"
        },
        "trusted": true,
        "id": "3C3qG--RUsSc"
      },
      "execution_count": null,
      "outputs": []
    },
    {
      "cell_type": "code",
      "source": [
        "movies.dropna(inplace=True)"
      ],
      "metadata": {
        "execution": {
          "iopub.status.busy": "2024-03-18T06:33:05.112019Z",
          "iopub.execute_input": "2024-03-18T06:33:05.112943Z",
          "iopub.status.idle": "2024-03-18T06:33:05.132145Z",
          "shell.execute_reply.started": "2024-03-18T06:33:05.112904Z",
          "shell.execute_reply": "2024-03-18T06:33:05.130925Z"
        },
        "trusted": true,
        "id": "QROnQhuMUsSc"
      },
      "execution_count": null,
      "outputs": []
    },
    {
      "cell_type": "code",
      "source": [
        "movies.iloc[0]['genres']"
      ],
      "metadata": {
        "execution": {
          "iopub.status.busy": "2024-03-18T06:33:05.134129Z",
          "iopub.execute_input": "2024-03-18T06:33:05.134542Z",
          "iopub.status.idle": "2024-03-18T06:33:05.146912Z",
          "shell.execute_reply.started": "2024-03-18T06:33:05.134508Z",
          "shell.execute_reply": "2024-03-18T06:33:05.14523Z"
        },
        "trusted": true,
        "id": "JuovZiDLUsSd"
      },
      "execution_count": null,
      "outputs": []
    },
    {
      "cell_type": "code",
      "source": [
        "movies.iloc[0:3]['genres']"
      ],
      "metadata": {
        "execution": {
          "iopub.status.busy": "2024-03-18T06:33:05.148764Z",
          "iopub.execute_input": "2024-03-18T06:33:05.149302Z",
          "iopub.status.idle": "2024-03-18T06:33:05.161901Z",
          "shell.execute_reply.started": "2024-03-18T06:33:05.149228Z",
          "shell.execute_reply": "2024-03-18T06:33:05.160682Z"
        },
        "trusted": true,
        "id": "6NZfhkfyUsSd"
      },
      "execution_count": null,
      "outputs": []
    },
    {
      "cell_type": "code",
      "source": [
        "movies.loc[0:3]['genres']"
      ],
      "metadata": {
        "execution": {
          "iopub.status.busy": "2024-03-18T06:33:05.163076Z",
          "iopub.execute_input": "2024-03-18T06:33:05.163454Z",
          "iopub.status.idle": "2024-03-18T06:33:05.178485Z",
          "shell.execute_reply.started": "2024-03-18T06:33:05.163421Z",
          "shell.execute_reply": "2024-03-18T06:33:05.177348Z"
        },
        "trusted": true,
        "id": "6S6b6rX0UsSd"
      },
      "execution_count": null,
      "outputs": []
    },
    {
      "cell_type": "code",
      "source": [
        "movies.iloc[2:7,0:3] # [Rows , Columns]"
      ],
      "metadata": {
        "execution": {
          "iopub.status.busy": "2024-03-18T06:33:05.180311Z",
          "iopub.execute_input": "2024-03-18T06:33:05.180701Z",
          "iopub.status.idle": "2024-03-18T06:33:05.20532Z",
          "shell.execute_reply.started": "2024-03-18T06:33:05.180669Z",
          "shell.execute_reply": "2024-03-18T06:33:05.203074Z"
        },
        "trusted": true,
        "id": "1r9rYnlLUsSd"
      },
      "execution_count": null,
      "outputs": []
    },
    {
      "cell_type": "markdown",
      "source": [
        "<div style=\"display:fill;\n",
        "            border-radius:15px;\n",
        "            background-color:cyan;\n",
        "            font-size:210%;\n",
        "            font-family:Vardana;\n",
        "            letter-spacing:0.5px;\n",
        "            padding:10px;\n",
        "            color:Red;\n",
        "            border-style: solid;\n",
        "            border-color: red;\n",
        "            text-align:center;\">\n",
        "<b>We will be using Content Based Filtering for this dataset</b>\n",
        "</div>"
      ],
      "metadata": {
        "id": "HzbPdwpxUsSm"
      }
    },
    {
      "cell_type": "code",
      "source": [
        "def convert(obj):\n",
        "    L = []\n",
        "    for i in obj:\n",
        "        L.append(i['name'])\n",
        "    return L"
      ],
      "metadata": {
        "execution": {
          "iopub.status.busy": "2024-03-18T06:33:05.207496Z",
          "iopub.execute_input": "2024-03-18T06:33:05.208115Z",
          "iopub.status.idle": "2024-03-18T06:33:05.216972Z",
          "shell.execute_reply.started": "2024-03-18T06:33:05.208062Z",
          "shell.execute_reply": "2024-03-18T06:33:05.215473Z"
        },
        "trusted": true,
        "id": "0cP5ojGXUsSm"
      },
      "execution_count": null,
      "outputs": []
    },
    {
      "cell_type": "code",
      "source": [
        "# This code convert string into list\n",
        "\n",
        "import ast\n",
        "ast.literal_eval('[{\"id\": 28, \"name\": \"Action\"}, {\"id\": 12, \"name\": \"Adventure\"}, {\"id\": 14, \"name\": \"Fantasy\"}, {\"id\": 878, \"name\": \"Science Fiction\"}]')"
      ],
      "metadata": {
        "execution": {
          "iopub.status.busy": "2024-03-18T06:33:05.219494Z",
          "iopub.execute_input": "2024-03-18T06:33:05.219936Z",
          "iopub.status.idle": "2024-03-18T06:33:05.232231Z",
          "shell.execute_reply.started": "2024-03-18T06:33:05.219849Z",
          "shell.execute_reply": "2024-03-18T06:33:05.231177Z"
        },
        "trusted": true,
        "id": "WXC504S1UsSm"
      },
      "execution_count": null,
      "outputs": []
    },
    {
      "cell_type": "code",
      "source": [
        "def convert(obj):\n",
        "    L = []\n",
        "    for i in ast.literal_eval(obj):\n",
        "        L.append(i['name'])\n",
        "    return L"
      ],
      "metadata": {
        "execution": {
          "iopub.status.busy": "2024-03-18T06:33:05.233616Z",
          "iopub.execute_input": "2024-03-18T06:33:05.234069Z",
          "iopub.status.idle": "2024-03-18T06:33:05.244445Z",
          "shell.execute_reply.started": "2024-03-18T06:33:05.234033Z",
          "shell.execute_reply": "2024-03-18T06:33:05.242777Z"
        },
        "trusted": true,
        "id": "qp3rsV-wUsSm"
      },
      "execution_count": null,
      "outputs": []
    },
    {
      "cell_type": "code",
      "source": [
        "movies['genres'].apply(convert)"
      ],
      "metadata": {
        "execution": {
          "iopub.status.busy": "2024-03-18T06:33:05.246134Z",
          "iopub.execute_input": "2024-03-18T06:33:05.246758Z",
          "iopub.status.idle": "2024-03-18T06:33:05.476111Z",
          "shell.execute_reply.started": "2024-03-18T06:33:05.24672Z",
          "shell.execute_reply": "2024-03-18T06:33:05.47477Z"
        },
        "trusted": true,
        "id": "328D3tyvUsSm"
      },
      "execution_count": null,
      "outputs": []
    },
    {
      "cell_type": "code",
      "source": [
        "movies[\"genres\"] = movies['genres'].apply(convert)"
      ],
      "metadata": {
        "execution": {
          "iopub.status.busy": "2024-03-18T06:33:05.478027Z",
          "iopub.execute_input": "2024-03-18T06:33:05.47885Z",
          "iopub.status.idle": "2024-03-18T06:33:05.694528Z",
          "shell.execute_reply.started": "2024-03-18T06:33:05.478811Z",
          "shell.execute_reply": "2024-03-18T06:33:05.693412Z"
        },
        "trusted": true,
        "id": "a-EA0IRdUsSm"
      },
      "execution_count": null,
      "outputs": []
    },
    {
      "cell_type": "code",
      "source": [
        "movies.head(1)"
      ],
      "metadata": {
        "execution": {
          "iopub.status.busy": "2024-03-18T06:33:05.695898Z",
          "iopub.execute_input": "2024-03-18T06:33:05.697211Z",
          "iopub.status.idle": "2024-03-18T06:33:05.715572Z",
          "shell.execute_reply.started": "2024-03-18T06:33:05.697167Z",
          "shell.execute_reply": "2024-03-18T06:33:05.713667Z"
        },
        "trusted": true,
        "id": "OpEAAjqKUsSm"
      },
      "execution_count": null,
      "outputs": []
    },
    {
      "cell_type": "code",
      "source": [
        "movies[\"keywords\"] = movies['keywords'].apply(convert)"
      ],
      "metadata": {
        "execution": {
          "iopub.status.busy": "2024-03-18T06:33:05.717387Z",
          "iopub.execute_input": "2024-03-18T06:33:05.717845Z",
          "iopub.status.idle": "2024-03-18T06:33:06.486907Z",
          "shell.execute_reply.started": "2024-03-18T06:33:05.717808Z",
          "shell.execute_reply": "2024-03-18T06:33:06.485526Z"
        },
        "trusted": true,
        "id": "clV1taUjUsSm"
      },
      "execution_count": null,
      "outputs": []
    },
    {
      "cell_type": "code",
      "source": [
        "movies.head(1)"
      ],
      "metadata": {
        "execution": {
          "iopub.status.busy": "2024-03-18T06:33:06.489211Z",
          "iopub.execute_input": "2024-03-18T06:33:06.489822Z",
          "iopub.status.idle": "2024-03-18T06:33:06.510952Z",
          "shell.execute_reply.started": "2024-03-18T06:33:06.489758Z",
          "shell.execute_reply": "2024-03-18T06:33:06.509298Z"
        },
        "trusted": true,
        "id": "gFFURK3IUsSm"
      },
      "execution_count": null,
      "outputs": []
    },
    {
      "cell_type": "code",
      "source": [
        "movies['cast'][0]"
      ],
      "metadata": {
        "execution": {
          "iopub.status.busy": "2024-03-18T06:33:06.513062Z",
          "iopub.execute_input": "2024-03-18T06:33:06.513657Z",
          "iopub.status.idle": "2024-03-18T06:33:06.526085Z",
          "shell.execute_reply.started": "2024-03-18T06:33:06.513604Z",
          "shell.execute_reply": "2024-03-18T06:33:06.524538Z"
        },
        "trusted": true,
        "id": "Z8-x_5LdUsSn",
        "outputId": "f2fb64ef-300a-43ad-99ef-dae7545f108c",
        "colab": {
          "base_uri": "https://localhost:8080/"
        }
      },
      "execution_count": null,
      "outputs": [
        {
          "output_type": "execute_result",
          "data": {
            "text/plain": [
              "['SamWorthington', 'ZoeSaldana', 'SigourneyWeaver']"
            ]
          },
          "metadata": {},
          "execution_count": 72
        }
      ]
    },
    {
      "cell_type": "code",
      "source": [
        "def convert3(obj):\n",
        "    L = []\n",
        "    counter = 0\n",
        "    for i in ast.literal_eval(obj):\n",
        "        if counter !=3:\n",
        "            L.append(i['name'])\n",
        "            counter += 1\n",
        "        else:\n",
        "            break\n",
        "    return L"
      ],
      "metadata": {
        "execution": {
          "iopub.status.busy": "2024-03-18T06:33:06.528052Z",
          "iopub.execute_input": "2024-03-18T06:33:06.528599Z",
          "iopub.status.idle": "2024-03-18T06:33:06.538097Z",
          "shell.execute_reply.started": "2024-03-18T06:33:06.528547Z",
          "shell.execute_reply": "2024-03-18T06:33:06.536313Z"
        },
        "trusted": true,
        "id": "KJnlaM6eUsSn"
      },
      "execution_count": null,
      "outputs": []
    },
    {
      "cell_type": "code",
      "source": [
        "movies['cast'].apply(convert3)"
      ],
      "metadata": {
        "execution": {
          "iopub.status.busy": "2024-03-18T06:33:06.540664Z",
          "iopub.execute_input": "2024-03-18T06:33:06.541186Z",
          "iopub.status.idle": "2024-03-18T06:33:10.639366Z",
          "shell.execute_reply.started": "2024-03-18T06:33:06.541148Z",
          "shell.execute_reply": "2024-03-18T06:33:10.63795Z"
        },
        "trusted": true,
        "id": "zMbr15gvUsSn"
      },
      "execution_count": null,
      "outputs": []
    },
    {
      "cell_type": "code",
      "source": [
        "movies['cast'] = movies['cast'].apply(convert3)\n",
        "movies.head(1)"
      ],
      "metadata": {
        "execution": {
          "iopub.status.busy": "2024-03-18T06:33:10.641094Z",
          "iopub.execute_input": "2024-03-18T06:33:10.64153Z",
          "iopub.status.idle": "2024-03-18T06:33:14.858896Z",
          "shell.execute_reply.started": "2024-03-18T06:33:10.641486Z",
          "shell.execute_reply": "2024-03-18T06:33:14.857723Z"
        },
        "trusted": true,
        "id": "4b_TFqv-UsSn"
      },
      "execution_count": null,
      "outputs": []
    },
    {
      "cell_type": "code",
      "source": [
        "movies['crew'][0]"
      ],
      "metadata": {
        "execution": {
          "iopub.status.busy": "2024-03-18T06:33:14.8607Z",
          "iopub.execute_input": "2024-03-18T06:33:14.861469Z",
          "iopub.status.idle": "2024-03-18T06:33:14.869744Z",
          "shell.execute_reply.started": "2024-03-18T06:33:14.861418Z",
          "shell.execute_reply": "2024-03-18T06:33:14.868803Z"
        },
        "trusted": true,
        "id": "dMBdo6QHUsSn"
      },
      "execution_count": null,
      "outputs": []
    },
    {
      "cell_type": "code",
      "source": [
        "def fetch_director(obj):\n",
        "    L = []\n",
        "    for i in ast.literal_eval(obj):\n",
        "        if i ['job'] == \"Director\":\n",
        "\n",
        "            L.append(i['name'])\n",
        "    return L"
      ],
      "metadata": {
        "execution": {
          "iopub.status.busy": "2024-03-18T06:33:14.871275Z",
          "iopub.execute_input": "2024-03-18T06:33:14.871725Z",
          "iopub.status.idle": "2024-03-18T06:33:14.883684Z",
          "shell.execute_reply.started": "2024-03-18T06:33:14.871687Z",
          "shell.execute_reply": "2024-03-18T06:33:14.88249Z"
        },
        "trusted": true,
        "id": "6yYCMU_ZUsSn"
      },
      "execution_count": null,
      "outputs": []
    },
    {
      "cell_type": "code",
      "source": [
        "movies['crew'].apply(fetch_director)"
      ],
      "metadata": {
        "execution": {
          "iopub.status.busy": "2024-03-18T06:33:14.886059Z",
          "iopub.execute_input": "2024-03-18T06:33:14.88676Z",
          "iopub.status.idle": "2024-03-18T06:33:19.75164Z",
          "shell.execute_reply.started": "2024-03-18T06:33:14.886716Z",
          "shell.execute_reply": "2024-03-18T06:33:19.750116Z"
        },
        "trusted": true,
        "id": "T4Nk5kDFUsSn"
      },
      "execution_count": null,
      "outputs": []
    },
    {
      "cell_type": "code",
      "source": [
        "movies['crew'] = movies['crew'].apply(fetch_director)\n",
        "movies.head(1)"
      ],
      "metadata": {
        "execution": {
          "iopub.status.busy": "2024-03-18T06:33:19.753721Z",
          "iopub.execute_input": "2024-03-18T06:33:19.754159Z",
          "iopub.status.idle": "2024-03-18T06:33:24.590349Z",
          "shell.execute_reply.started": "2024-03-18T06:33:19.754122Z",
          "shell.execute_reply": "2024-03-18T06:33:24.588955Z"
        },
        "trusted": true,
        "id": "2WEzUEOqUsSn"
      },
      "execution_count": null,
      "outputs": []
    },
    {
      "cell_type": "code",
      "source": [
        "movies['overview'][0]"
      ],
      "metadata": {
        "execution": {
          "iopub.status.busy": "2024-03-18T06:33:24.592391Z",
          "iopub.execute_input": "2024-03-18T06:33:24.592808Z",
          "iopub.status.idle": "2024-03-18T06:33:24.603768Z",
          "shell.execute_reply.started": "2024-03-18T06:33:24.592772Z",
          "shell.execute_reply": "2024-03-18T06:33:24.60196Z"
        },
        "trusted": true,
        "id": "pO8M17mTUsSn"
      },
      "execution_count": null,
      "outputs": []
    },
    {
      "cell_type": "code",
      "source": [
        "movies['overview'].apply(lambda x:x.split())"
      ],
      "metadata": {
        "execution": {
          "iopub.status.busy": "2024-03-18T06:33:24.605892Z",
          "iopub.execute_input": "2024-03-18T06:33:24.61026Z",
          "iopub.status.idle": "2024-03-18T06:33:24.662252Z",
          "shell.execute_reply.started": "2024-03-18T06:33:24.6102Z",
          "shell.execute_reply": "2024-03-18T06:33:24.660777Z"
        },
        "trusted": true,
        "id": "X_xuK0JhUsSn"
      },
      "execution_count": null,
      "outputs": []
    },
    {
      "cell_type": "code",
      "source": [
        "movies['overview'] = movies['overview'].apply(lambda x:x.split())"
      ],
      "metadata": {
        "execution": {
          "iopub.status.busy": "2024-03-18T06:33:24.664208Z",
          "iopub.execute_input": "2024-03-18T06:33:24.664585Z",
          "iopub.status.idle": "2024-03-18T06:33:24.728989Z",
          "shell.execute_reply.started": "2024-03-18T06:33:24.664552Z",
          "shell.execute_reply": "2024-03-18T06:33:24.727491Z"
        },
        "trusted": true,
        "id": "2Yn1DI5hUsSo"
      },
      "execution_count": null,
      "outputs": []
    },
    {
      "cell_type": "code",
      "source": [
        "movies.head(1)"
      ],
      "metadata": {
        "execution": {
          "iopub.status.busy": "2024-03-18T06:33:24.730224Z",
          "iopub.execute_input": "2024-03-18T06:33:24.730587Z",
          "iopub.status.idle": "2024-03-18T06:33:24.751737Z",
          "shell.execute_reply.started": "2024-03-18T06:33:24.730554Z",
          "shell.execute_reply": "2024-03-18T06:33:24.750324Z"
        },
        "trusted": true,
        "id": "miVUAXOKUsSo"
      },
      "execution_count": null,
      "outputs": []
    },
    {
      "cell_type": "code",
      "source": [
        "movies['genres'].apply(lambda x:[i.replace(\" \", \"\") for i in x])"
      ],
      "metadata": {
        "execution": {
          "iopub.status.busy": "2024-03-18T06:33:24.772757Z",
          "iopub.execute_input": "2024-03-18T06:33:24.773231Z",
          "iopub.status.idle": "2024-03-18T06:33:24.798095Z",
          "shell.execute_reply.started": "2024-03-18T06:33:24.773195Z",
          "shell.execute_reply": "2024-03-18T06:33:24.796147Z"
        },
        "trusted": true,
        "id": "Id6qbKjaUsSo"
      },
      "execution_count": null,
      "outputs": []
    },
    {
      "cell_type": "code",
      "source": [
        "movies['genres'] = movies['genres'].apply(lambda x:[i.replace(\" \", \"\") for i in x])\n",
        "\n",
        "movies['keywords'] = movies['keywords'].apply(lambda x:[i.replace(\" \", \"\") for i in x])\n",
        "\n",
        "movies['cast'] = movies['cast'].apply(lambda x:[i.replace(\" \", \"\") for i in x])\n",
        "\n",
        "movies['crew'] = movies['crew'].apply(lambda x:[i.replace(\" \", \"\") for i in x])"
      ],
      "metadata": {
        "execution": {
          "iopub.status.busy": "2024-03-18T06:33:24.800969Z",
          "iopub.execute_input": "2024-03-18T06:33:24.801566Z",
          "iopub.status.idle": "2024-03-18T06:33:25.087381Z",
          "shell.execute_reply.started": "2024-03-18T06:33:24.801506Z",
          "shell.execute_reply": "2024-03-18T06:33:25.085756Z"
        },
        "trusted": true,
        "id": "ljd-9_cJUsSo"
      },
      "execution_count": null,
      "outputs": []
    },
    {
      "cell_type": "code",
      "source": [
        "movies.head()"
      ],
      "metadata": {
        "execution": {
          "iopub.status.busy": "2024-03-18T06:33:25.089436Z",
          "iopub.execute_input": "2024-03-18T06:33:25.090057Z",
          "iopub.status.idle": "2024-03-18T06:33:25.122331Z",
          "shell.execute_reply.started": "2024-03-18T06:33:25.089997Z",
          "shell.execute_reply": "2024-03-18T06:33:25.1209Z"
        },
        "trusted": true,
        "id": "ggyjCguZUsSo"
      },
      "execution_count": null,
      "outputs": []
    },
    {
      "cell_type": "code",
      "source": [
        "movies['tags'] = movies['overview'] + movies['genres'] + movies['keywords'] + movies['cast'] + movies['crew']"
      ],
      "metadata": {
        "execution": {
          "iopub.status.busy": "2024-03-18T06:33:25.124624Z",
          "iopub.execute_input": "2024-03-18T06:33:25.126114Z",
          "iopub.status.idle": "2024-03-18T06:33:25.21427Z",
          "shell.execute_reply.started": "2024-03-18T06:33:25.126051Z",
          "shell.execute_reply": "2024-03-18T06:33:25.212902Z"
        },
        "trusted": true,
        "id": "pilky1LKUsSo"
      },
      "execution_count": null,
      "outputs": []
    },
    {
      "cell_type": "code",
      "source": [
        "movies.head(1)"
      ],
      "metadata": {
        "execution": {
          "iopub.status.busy": "2024-03-18T06:33:25.216137Z",
          "iopub.execute_input": "2024-03-18T06:33:25.216535Z",
          "iopub.status.idle": "2024-03-18T06:33:25.23737Z",
          "shell.execute_reply.started": "2024-03-18T06:33:25.216502Z",
          "shell.execute_reply": "2024-03-18T06:33:25.236114Z"
        },
        "trusted": true,
        "id": "UiRpeCHFUsSo"
      },
      "execution_count": null,
      "outputs": []
    },
    {
      "cell_type": "code",
      "source": [
        "new_df = movies[[\"movie_id\",\"title\",\"tags\"]]\n",
        "new_df.head(2)"
      ],
      "metadata": {
        "execution": {
          "iopub.status.busy": "2024-03-18T06:33:25.239068Z",
          "iopub.execute_input": "2024-03-18T06:33:25.2395Z",
          "iopub.status.idle": "2024-03-18T06:33:25.262829Z",
          "shell.execute_reply.started": "2024-03-18T06:33:25.239463Z",
          "shell.execute_reply": "2024-03-18T06:33:25.26179Z"
        },
        "trusted": true,
        "id": "f_D1aKXXUsSo"
      },
      "execution_count": null,
      "outputs": []
    },
    {
      "cell_type": "code",
      "source": [
        "import nltk\n",
        "\n",
        "from nltk.stem.porter import PorterStemmer\n",
        "ps = PorterStemmer()"
      ],
      "metadata": {
        "execution": {
          "iopub.status.busy": "2024-03-18T06:33:25.273411Z",
          "iopub.execute_input": "2024-03-18T06:33:25.27427Z",
          "iopub.status.idle": "2024-03-18T06:33:26.118003Z",
          "shell.execute_reply.started": "2024-03-18T06:33:25.274234Z",
          "shell.execute_reply": "2024-03-18T06:33:26.116252Z"
        },
        "trusted": true,
        "id": "aLCsSNEPUsSo"
      },
      "execution_count": null,
      "outputs": []
    },
    {
      "cell_type": "code",
      "source": [
        "# Example\n",
        "\n",
        "def stem1(text):\n",
        "    y = []\n",
        "\n",
        "    for i in text.split():\n",
        "        ps.stem()"
      ],
      "metadata": {
        "execution": {
          "iopub.status.busy": "2024-03-18T06:33:26.11989Z",
          "iopub.execute_input": "2024-03-18T06:33:26.12036Z",
          "iopub.status.idle": "2024-03-18T06:33:26.126925Z",
          "shell.execute_reply.started": "2024-03-18T06:33:26.120321Z",
          "shell.execute_reply": "2024-03-18T06:33:26.125804Z"
        },
        "trusted": true,
        "id": "-1GisOi-UsSo"
      },
      "execution_count": null,
      "outputs": []
    },
    {
      "cell_type": "code",
      "source": [
        "def stem(text):\n",
        "    y = []\n",
        "\n",
        "    for i in text.split():\n",
        "        y.append(ps.stem(i))\n",
        "\n",
        "    return \" \".join(y)"
      ],
      "metadata": {
        "execution": {
          "iopub.status.busy": "2024-03-18T06:33:26.128617Z",
          "iopub.execute_input": "2024-03-18T06:33:26.130246Z",
          "iopub.status.idle": "2024-03-18T06:33:26.142214Z",
          "shell.execute_reply.started": "2024-03-18T06:33:26.130164Z",
          "shell.execute_reply": "2024-03-18T06:33:26.14065Z"
        },
        "trusted": true,
        "id": "vPbiolYyUsSp"
      },
      "execution_count": null,
      "outputs": []
    },
    {
      "cell_type": "code",
      "source": [
        "new_df['tags'][0]"
      ],
      "metadata": {
        "execution": {
          "iopub.status.busy": "2024-03-18T06:33:26.144016Z",
          "iopub.execute_input": "2024-03-18T06:33:26.144978Z",
          "iopub.status.idle": "2024-03-18T06:33:26.16188Z",
          "shell.execute_reply.started": "2024-03-18T06:33:26.144923Z",
          "shell.execute_reply": "2024-03-18T06:33:26.160309Z"
        },
        "trusted": true,
        "id": "OzVhnUhvUsSp"
      },
      "execution_count": null,
      "outputs": []
    },
    {
      "cell_type": "code",
      "source": [
        "new_df['tags'] = new_df[\"tags\"].apply(lambda x:\" \".join(x))"
      ],
      "metadata": {
        "execution": {
          "iopub.status.busy": "2024-03-18T06:33:26.163516Z",
          "iopub.execute_input": "2024-03-18T06:33:26.164824Z",
          "iopub.status.idle": "2024-03-18T06:33:26.199119Z",
          "shell.execute_reply.started": "2024-03-18T06:33:26.164781Z",
          "shell.execute_reply": "2024-03-18T06:33:26.197409Z"
        },
        "trusted": true,
        "id": "DDnvADjtUsSp"
      },
      "execution_count": null,
      "outputs": []
    },
    {
      "cell_type": "code",
      "source": [
        "new_df.head(1)"
      ],
      "metadata": {
        "execution": {
          "iopub.status.busy": "2024-03-18T06:33:26.201717Z",
          "iopub.execute_input": "2024-03-18T06:33:26.202467Z",
          "iopub.status.idle": "2024-03-18T06:33:26.222704Z",
          "shell.execute_reply.started": "2024-03-18T06:33:26.202413Z",
          "shell.execute_reply": "2024-03-18T06:33:26.220833Z"
        },
        "trusted": true,
        "id": "qIWk3P2HUsSp"
      },
      "execution_count": null,
      "outputs": []
    },
    {
      "cell_type": "code",
      "source": [
        "new_df['tags'][0]"
      ],
      "metadata": {
        "execution": {
          "iopub.status.busy": "2024-03-18T06:33:26.225243Z",
          "iopub.execute_input": "2024-03-18T06:33:26.225796Z",
          "iopub.status.idle": "2024-03-18T06:33:26.238493Z",
          "shell.execute_reply.started": "2024-03-18T06:33:26.22573Z",
          "shell.execute_reply": "2024-03-18T06:33:26.236633Z"
        },
        "trusted": true,
        "id": "YdgFLXFGUsSp"
      },
      "execution_count": null,
      "outputs": []
    },
    {
      "cell_type": "code",
      "source": [
        "new_df['tags'].apply(lambda x:x.lower())"
      ],
      "metadata": {
        "execution": {
          "iopub.status.busy": "2024-03-18T06:33:26.240852Z",
          "iopub.execute_input": "2024-03-18T06:33:26.241898Z",
          "iopub.status.idle": "2024-03-18T06:33:26.264729Z",
          "shell.execute_reply.started": "2024-03-18T06:33:26.241815Z",
          "shell.execute_reply": "2024-03-18T06:33:26.263181Z"
        },
        "trusted": true,
        "id": "r5DZhI41UsSp"
      },
      "execution_count": null,
      "outputs": []
    },
    {
      "cell_type": "code",
      "source": [
        "# Convert all in lower case\n",
        "new_df['tags'] = new_df['tags'].apply(lambda x:x.lower())"
      ],
      "metadata": {
        "execution": {
          "iopub.status.busy": "2024-03-18T06:33:26.266296Z",
          "iopub.execute_input": "2024-03-18T06:33:26.267556Z",
          "iopub.status.idle": "2024-03-18T06:33:26.281889Z",
          "shell.execute_reply.started": "2024-03-18T06:33:26.267489Z",
          "shell.execute_reply": "2024-03-18T06:33:26.280896Z"
        },
        "trusted": true,
        "id": "xSLbGxN8UsSp"
      },
      "execution_count": null,
      "outputs": []
    },
    {
      "cell_type": "code",
      "source": [
        "new_df.head(1)"
      ],
      "metadata": {
        "execution": {
          "iopub.status.busy": "2024-03-18T06:33:26.283336Z",
          "iopub.execute_input": "2024-03-18T06:33:26.284032Z",
          "iopub.status.idle": "2024-03-18T06:33:26.298001Z",
          "shell.execute_reply.started": "2024-03-18T06:33:26.283997Z",
          "shell.execute_reply": "2024-03-18T06:33:26.296385Z"
        },
        "trusted": true,
        "id": "tYLI6oPxUsSp"
      },
      "execution_count": null,
      "outputs": []
    },
    {
      "cell_type": "code",
      "source": [
        "new_df['tags'][0]"
      ],
      "metadata": {
        "execution": {
          "iopub.status.busy": "2024-03-18T06:33:26.2999Z",
          "iopub.execute_input": "2024-03-18T06:33:26.300666Z",
          "iopub.status.idle": "2024-03-18T06:33:26.310453Z",
          "shell.execute_reply.started": "2024-03-18T06:33:26.300484Z",
          "shell.execute_reply": "2024-03-18T06:33:26.309423Z"
        },
        "trusted": true,
        "id": "9eFJpItiUsSp"
      },
      "execution_count": null,
      "outputs": []
    },
    {
      "cell_type": "code",
      "source": [
        "new_df['tags'][1]"
      ],
      "metadata": {
        "execution": {
          "iopub.status.busy": "2024-03-18T06:33:26.311846Z",
          "iopub.execute_input": "2024-03-18T06:33:26.31246Z",
          "iopub.status.idle": "2024-03-18T06:33:26.324289Z",
          "shell.execute_reply.started": "2024-03-18T06:33:26.312427Z",
          "shell.execute_reply": "2024-03-18T06:33:26.3229Z"
        },
        "trusted": true,
        "id": "mlcyen0cUsSp"
      },
      "execution_count": null,
      "outputs": []
    },
    {
      "cell_type": "code",
      "source": [
        "!pip install sklearn==0.0"
      ],
      "metadata": {
        "id": "bc-dkfEsuLmt"
      },
      "execution_count": null,
      "outputs": []
    },
    {
      "cell_type": "code",
      "source": [
        "from sklearn.feature_extraction.text import CountVectorizer\n",
        "cv = CountVectorizer(max_features=5000,stop_words='english')"
      ],
      "metadata": {
        "execution": {
          "iopub.status.busy": "2024-03-18T06:33:26.326189Z",
          "iopub.execute_input": "2024-03-18T06:33:26.326772Z",
          "iopub.status.idle": "2024-03-18T06:33:26.337544Z",
          "shell.execute_reply.started": "2024-03-18T06:33:26.326738Z",
          "shell.execute_reply": "2024-03-18T06:33:26.335761Z"
        },
        "trusted": true,
        "id": "Qgcj4YfyUsSq"
      },
      "execution_count": null,
      "outputs": []
    },
    {
      "cell_type": "code",
      "source": [
        "vector = cv.fit_transform(new_df['tags']).toarray()"
      ],
      "metadata": {
        "execution": {
          "iopub.status.busy": "2024-03-18T06:33:26.339943Z",
          "iopub.execute_input": "2024-03-18T06:33:26.340965Z",
          "iopub.status.idle": "2024-03-18T06:33:27.277142Z",
          "shell.execute_reply.started": "2024-03-18T06:33:26.340911Z",
          "shell.execute_reply": "2024-03-18T06:33:27.275169Z"
        },
        "trusted": true,
        "id": "lDgBk7lcUsSq"
      },
      "execution_count": null,
      "outputs": []
    },
    {
      "cell_type": "code",
      "source": [
        "vector"
      ],
      "metadata": {
        "execution": {
          "iopub.status.busy": "2024-03-18T06:33:27.27928Z",
          "iopub.execute_input": "2024-03-18T06:33:27.279932Z",
          "iopub.status.idle": "2024-03-18T06:33:27.291452Z",
          "shell.execute_reply.started": "2024-03-18T06:33:27.279854Z",
          "shell.execute_reply": "2024-03-18T06:33:27.289371Z"
        },
        "trusted": true,
        "id": "9w5g29IlUsSq"
      },
      "execution_count": null,
      "outputs": []
    },
    {
      "cell_type": "code",
      "source": [
        "vector[0]"
      ],
      "metadata": {
        "execution": {
          "iopub.status.busy": "2024-03-18T06:33:27.294018Z",
          "iopub.execute_input": "2024-03-18T06:33:27.295696Z",
          "iopub.status.idle": "2024-03-18T06:33:27.3043Z",
          "shell.execute_reply.started": "2024-03-18T06:33:27.295627Z",
          "shell.execute_reply": "2024-03-18T06:33:27.302877Z"
        },
        "trusted": true,
        "id": "qp5KMqoOUsSq"
      },
      "execution_count": null,
      "outputs": []
    },
    {
      "cell_type": "code",
      "source": [
        "vector.shape"
      ],
      "metadata": {
        "execution": {
          "iopub.status.busy": "2024-03-18T06:33:27.306283Z",
          "iopub.execute_input": "2024-03-18T06:33:27.306686Z",
          "iopub.status.idle": "2024-03-18T06:33:27.320919Z",
          "shell.execute_reply.started": "2024-03-18T06:33:27.306654Z",
          "shell.execute_reply": "2024-03-18T06:33:27.318983Z"
        },
        "trusted": true,
        "id": "5nHHnom7UsSq"
      },
      "execution_count": null,
      "outputs": []
    },
    {
      "cell_type": "code",
      "source": [
        "cv.get_feature_names_out()"
      ],
      "metadata": {
        "execution": {
          "iopub.status.busy": "2024-03-18T06:33:27.322622Z",
          "iopub.execute_input": "2024-03-18T06:33:27.323556Z",
          "iopub.status.idle": "2024-03-18T06:33:27.367052Z",
          "shell.execute_reply.started": "2024-03-18T06:33:27.3235Z",
          "shell.execute_reply": "2024-03-18T06:33:27.365566Z"
        },
        "trusted": true,
        "id": "9nH7Fqa7UsSq"
      },
      "execution_count": null,
      "outputs": []
    },
    {
      "cell_type": "code",
      "source": [
        "stem('in the 22nd century, a paraplegic marine is dispatched to the moon pandora on a unique mission, but becomes torn between following orders and protecting an alien civilization. action adventure fantasy sciencefiction cultureclash future spacewar spacecolony society spacetravel futuristic romance space alien tribe alienplanet cgi marine soldier battle loveaffair antiwar powerrelations mindandsoul 3d samworthington zoesaldana sigourneyweaver jamescameron')"
      ],
      "metadata": {
        "execution": {
          "iopub.status.busy": "2024-03-18T06:33:27.430698Z",
          "iopub.execute_input": "2024-03-18T06:33:27.431347Z",
          "iopub.status.idle": "2024-03-18T06:33:27.444138Z",
          "shell.execute_reply.started": "2024-03-18T06:33:27.431289Z",
          "shell.execute_reply": "2024-03-18T06:33:27.442972Z"
        },
        "trusted": true,
        "id": "liMySn1PUsSr"
      },
      "execution_count": null,
      "outputs": []
    },
    {
      "cell_type": "code",
      "source": [
        "from sklearn.metrics.pairwise import cosine_similarity"
      ],
      "metadata": {
        "execution": {
          "iopub.status.busy": "2024-03-18T06:33:27.446658Z",
          "iopub.execute_input": "2024-03-18T06:33:27.447053Z",
          "iopub.status.idle": "2024-03-18T06:33:27.456924Z",
          "shell.execute_reply.started": "2024-03-18T06:33:27.44702Z",
          "shell.execute_reply": "2024-03-18T06:33:27.455548Z"
        },
        "trusted": true,
        "id": "7j8V_a3wUsSr"
      },
      "execution_count": null,
      "outputs": []
    },
    {
      "cell_type": "code",
      "source": [
        "similarity = cosine_similarity(vector)"
      ],
      "metadata": {
        "execution": {
          "iopub.status.busy": "2024-03-18T06:33:27.458505Z",
          "iopub.execute_input": "2024-03-18T06:33:27.458925Z",
          "iopub.status.idle": "2024-03-18T06:33:31.075076Z",
          "shell.execute_reply.started": "2024-03-18T06:33:27.458885Z",
          "shell.execute_reply": "2024-03-18T06:33:31.073809Z"
        },
        "trusted": true,
        "id": "18vp8xLUUsSr"
      },
      "execution_count": null,
      "outputs": []
    },
    {
      "cell_type": "code",
      "source": [
        "similarity"
      ],
      "metadata": {
        "execution": {
          "iopub.status.busy": "2024-03-18T06:33:31.076732Z",
          "iopub.execute_input": "2024-03-18T06:33:31.077211Z",
          "iopub.status.idle": "2024-03-18T06:33:31.086991Z",
          "shell.execute_reply.started": "2024-03-18T06:33:31.077171Z",
          "shell.execute_reply": "2024-03-18T06:33:31.085462Z"
        },
        "trusted": true,
        "id": "YAXo_Rl7UsSr"
      },
      "execution_count": null,
      "outputs": []
    },
    {
      "cell_type": "code",
      "source": [
        "similarity[0]"
      ],
      "metadata": {
        "execution": {
          "iopub.status.busy": "2024-03-18T06:33:31.088844Z",
          "iopub.execute_input": "2024-03-18T06:33:31.089312Z",
          "iopub.status.idle": "2024-03-18T06:33:31.099428Z",
          "shell.execute_reply.started": "2024-03-18T06:33:31.089276Z",
          "shell.execute_reply": "2024-03-18T06:33:31.098173Z"
        },
        "trusted": true,
        "id": "Ii6SdaAyUsSr"
      },
      "execution_count": null,
      "outputs": []
    },
    {
      "cell_type": "code",
      "source": [
        "new_df[new_df['title'] == 'The Lego Movie'].index[0]"
      ],
      "metadata": {
        "execution": {
          "iopub.status.busy": "2024-03-18T06:33:31.101315Z",
          "iopub.execute_input": "2024-03-18T06:33:31.10169Z",
          "iopub.status.idle": "2024-03-18T06:33:31.122364Z",
          "shell.execute_reply.started": "2024-03-18T06:33:31.101658Z",
          "shell.execute_reply": "2024-03-18T06:33:31.12106Z"
        },
        "trusted": true,
        "id": "aI2C9XtwUsSr"
      },
      "execution_count": null,
      "outputs": []
    },
    {
      "cell_type": "code",
      "source": [
        "sorted(list(enumerate(similarity[0])),reverse=True,key= lambda x:x[1])[1:6]"
      ],
      "metadata": {
        "execution": {
          "iopub.status.busy": "2024-03-18T06:33:31.123817Z",
          "iopub.execute_input": "2024-03-18T06:33:31.124236Z",
          "iopub.status.idle": "2024-03-18T06:33:31.14356Z",
          "shell.execute_reply.started": "2024-03-18T06:33:31.124193Z",
          "shell.execute_reply": "2024-03-18T06:33:31.142379Z"
        },
        "trusted": true,
        "id": "5086TsUVUsSr"
      },
      "execution_count": null,
      "outputs": []
    },
    {
      "cell_type": "code",
      "source": [
        "def recommend(movie):\n",
        "    index = new_df[new_df['title'] == movie].index[0]\n",
        "    distances = sorted(list(enumerate(similarity[index])),reverse=True,key = lambda x: x[1])\n",
        "    for i in distances[1:6]:\n",
        "        print(new_df.iloc[i[0]].title)\n",
        "        print(\"Cosine Similarity: \",i[1])\n"
      ],
      "metadata": {
        "execution": {
          "iopub.status.busy": "2024-03-18T06:33:31.145375Z",
          "iopub.execute_input": "2024-03-18T06:33:31.146085Z",
          "iopub.status.idle": "2024-03-18T06:33:31.1573Z",
          "shell.execute_reply.started": "2024-03-18T06:33:31.146045Z",
          "shell.execute_reply": "2024-03-18T06:33:31.155606Z"
        },
        "trusted": true,
        "id": "ke4yXxdjUsSr"
      },
      "execution_count": null,
      "outputs": []
    },
    {
      "cell_type": "markdown",
      "source": [
        "<span style=\"background-color:yellow;\n",
        "             color:Black;\n",
        "             font-size:25px;\n",
        "             text-align:center;\n",
        "             border-radius:30px 80px;\n",
        "             font-weight:bold;\n",
        "             border:2px solid red;\n",
        "             padding:0px 20px;\">Movies recommended according to similarity\n",
        "</span>"
      ],
      "metadata": {
        "id": "HJV4mChGUsSr"
      }
    },
    {
      "cell_type": "code",
      "source": [
        "recommend('Avatar')"
      ],
      "metadata": {
        "execution": {
          "iopub.status.busy": "2024-03-18T06:45:07.732733Z",
          "iopub.execute_input": "2024-03-18T06:45:07.733251Z",
          "iopub.status.idle": "2024-03-18T06:45:07.753201Z",
          "shell.execute_reply.started": "2024-03-18T06:45:07.733203Z",
          "shell.execute_reply": "2024-03-18T06:45:07.75186Z"
        },
        "trusted": true,
        "id": "oPxhSvmOUsSr"
      },
      "execution_count": null,
      "outputs": []
    },
    {
      "cell_type": "code",
      "source": [
        "recommend('Independence Day')"
      ],
      "metadata": {
        "execution": {
          "iopub.status.busy": "2024-03-18T06:33:31.188037Z",
          "iopub.execute_input": "2024-03-18T06:33:31.189478Z",
          "iopub.status.idle": "2024-03-18T06:33:31.211406Z",
          "shell.execute_reply.started": "2024-03-18T06:33:31.189392Z",
          "shell.execute_reply": "2024-03-18T06:33:31.209798Z"
        },
        "trusted": true,
        "id": "IyvY7gjjUsSr"
      },
      "execution_count": null,
      "outputs": []
    },
    {
      "cell_type": "code",
      "source": [],
      "metadata": {
        "id": "eOmeLG4JtulT"
      },
      "execution_count": null,
      "outputs": []
    }
  ]
}